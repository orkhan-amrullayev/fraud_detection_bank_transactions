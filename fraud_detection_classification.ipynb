{
 "cells": [
  {
   "cell_type": "markdown",
   "metadata": {},
   "source": [
    "# Fraud Detection in Bank Transactions\n",
    "\n",
    "## Orkhan Amrullayev\n",
    "\n",
    "In this paper, bank transactions will be used to predict fraudulent ones. \n",
    "\n",
    "As per description of the dataset, it contains transactions made by credit cards in September 2013 by European cardholders.\n",
    "This dataset presents transactions that occurred in two days, where we have 492 frauds out of 284,807 transactions. The dataset is highly unbalanced, the positive class (frauds) account for 0.172% of all transactions.\n",
    "\n",
    "It contains only numerical input variables which are the result of a PCA transformation. Unfortunately, due to confidentiality issues, we cannot provide the original features and more background information about the data. Features V1, V2, … V28 are the principal components obtained with PCA, the only features which have not been transformed with PCA are 'Time' and 'Amount'. Feature 'Time' contains the seconds elapsed between each transaction and the first transaction in the dataset. The feature 'Amount' is the transaction Amount, this feature can be used for example-dependant cost-sensitive learning. Feature 'Class' is the response variable and it takes value 1 in case of fraud and 0 otherwise."
   ]
  },
  {
   "cell_type": "markdown",
   "metadata": {},
   "source": [
    "This paper will compare various data balancing techniques with powerful boosting models. Models used here are Random Forest, XGBoost and LGB. We will look at precision-recall curve and roc curve."
   ]
  },
  {
   "cell_type": "markdown",
   "metadata": {},
   "source": [
    "## Content\n",
    "\n",
    "### 1. Imports and reading dataset\n",
    "### 2. Exploratory Data Analysis\n",
    "### 3. Dealing with unbalanced dataset\n",
    " 3.1 Without balancing\n",
    " \n",
    " 3.2 Undersampling\n",
    " \n",
    " 3.3 Oversampling\n",
    "### 4. Building function for 3 models:\n",
    " 4.1 Random forest classifier\n",
    " \n",
    " 4.2 XGBoost\n",
    " \n",
    " 4.3 LightGBM\n",
    " \n",
    "### 5. Comparison of result of the models with \"Without balancing\", \"Undersampling\", \"Oversampling\" options\n",
    "### 6. Conclusion"
   ]
  },
  {
   "cell_type": "code",
   "execution_count": 1,
   "metadata": {
    "_uuid": "097bec906d2390fcc92872fb6b1edefa48214ded",
    "execution": {
     "iopub.execute_input": "2021-09-05T19:49:21.673827Z",
     "iopub.status.busy": "2021-09-05T19:49:21.673589Z",
     "iopub.status.idle": "2021-09-05T19:49:21.701020Z",
     "shell.execute_reply": "2021-09-05T19:49:21.700068Z",
     "shell.execute_reply.started": "2021-09-05T19:49:21.673780Z"
    }
   },
   "outputs": [
    {
     "name": "stdout",
     "output_type": "stream",
     "text": [
      "['creditcard.csv']\n"
     ]
    }
   ],
   "source": [
    "import os\n",
    "print(os.listdir(\"../input\"))"
   ]
  },
  {
   "cell_type": "markdown",
   "metadata": {},
   "source": [
    "Importing the libraries for the further use."
   ]
  },
  {
   "cell_type": "code",
   "execution_count": 2,
   "metadata": {
    "_uuid": "d736b454b9954d17c6cab10ed55e6798fd0b0bd2",
    "execution": {
     "iopub.execute_input": "2021-09-05T19:49:24.592678Z",
     "iopub.status.busy": "2021-09-05T19:49:24.592357Z",
     "iopub.status.idle": "2021-09-05T19:49:25.685076Z",
     "shell.execute_reply": "2021-09-05T19:49:25.683976Z",
     "shell.execute_reply.started": "2021-09-05T19:49:24.592626Z"
    }
   },
   "outputs": [
    {
     "name": "stderr",
     "output_type": "stream",
     "text": [
      "/opt/conda/lib/python3.6/site-packages/sklearn/ensemble/weight_boosting.py:29: DeprecationWarning: numpy.core.umath_tests is an internal NumPy module and should not be imported. It will be removed in a future NumPy release.\n",
      "  from numpy.core.umath_tests import inner1d\n"
     ]
    }
   ],
   "source": [
    "import pandas as pd\n",
    "import numpy as np\n",
    "from sklearn.utils import resample\n",
    "from sklearn.preprocessing import StandardScaler\n",
    "from sklearn.model_selection import train_test_split, GridSearchCV, StratifiedKFold\n",
    "from sklearn.ensemble import RandomForestClassifier, VotingClassifier\n",
    "from xgboost import XGBClassifier\n",
    "from lightgbm import LGBMClassifier\n",
    "from sklearn.metrics import confusion_matrix, classification_report, roc_auc_score, precision_recall_curve, roc_curve, auc, average_precision_score\n",
    "from imblearn.over_sampling import SMOTE, BorderlineSMOTE, SVMSMOTE, ADASYN\n",
    "\n",
    "import matplotlib.pyplot as plt\n",
    "import seaborn as sns\n",
    "%matplotlib inline\n",
    "\n",
    "import warnings\n",
    "warnings.filterwarnings('ignore')"
   ]
  },
  {
   "cell_type": "markdown",
   "metadata": {},
   "source": [
    "Reading the dataset."
   ]
  },
  {
   "cell_type": "code",
   "execution_count": 3,
   "metadata": {
    "_uuid": "b11d6842c854d64c8beb454cf4f6d40b08c60ead",
    "execution": {
     "iopub.execute_input": "2021-09-05T19:49:35.405469Z",
     "iopub.status.busy": "2021-09-05T19:49:35.404900Z",
     "iopub.status.idle": "2021-09-05T19:49:39.147026Z",
     "shell.execute_reply": "2021-09-05T19:49:39.146379Z",
     "shell.execute_reply.started": "2021-09-05T19:49:35.405173Z"
    },
    "scrolled": true
   },
   "outputs": [
    {
     "data": {
      "text/html": [
       "<div>\n",
       "<style scoped>\n",
       "    .dataframe tbody tr th:only-of-type {\n",
       "        vertical-align: middle;\n",
       "    }\n",
       "\n",
       "    .dataframe tbody tr th {\n",
       "        vertical-align: top;\n",
       "    }\n",
       "\n",
       "    .dataframe thead th {\n",
       "        text-align: right;\n",
       "    }\n",
       "</style>\n",
       "<table border=\"1\" class=\"dataframe\">\n",
       "  <thead>\n",
       "    <tr style=\"text-align: right;\">\n",
       "      <th></th>\n",
       "      <th>Time</th>\n",
       "      <th>V1</th>\n",
       "      <th>V2</th>\n",
       "      <th>V3</th>\n",
       "      <th>V4</th>\n",
       "      <th>V5</th>\n",
       "      <th>V6</th>\n",
       "      <th>V7</th>\n",
       "      <th>V8</th>\n",
       "      <th>V9</th>\n",
       "      <th>V10</th>\n",
       "      <th>V11</th>\n",
       "      <th>V12</th>\n",
       "      <th>V13</th>\n",
       "      <th>V14</th>\n",
       "      <th>V15</th>\n",
       "      <th>V16</th>\n",
       "      <th>V17</th>\n",
       "      <th>V18</th>\n",
       "      <th>V19</th>\n",
       "      <th>V20</th>\n",
       "      <th>V21</th>\n",
       "      <th>V22</th>\n",
       "      <th>V23</th>\n",
       "      <th>V24</th>\n",
       "      <th>V25</th>\n",
       "      <th>V26</th>\n",
       "      <th>V27</th>\n",
       "      <th>V28</th>\n",
       "      <th>Amount</th>\n",
       "      <th>Class</th>\n",
       "    </tr>\n",
       "  </thead>\n",
       "  <tbody>\n",
       "    <tr>\n",
       "      <th>0</th>\n",
       "      <td>0.0</td>\n",
       "      <td>-1.359807</td>\n",
       "      <td>-0.072781</td>\n",
       "      <td>2.536347</td>\n",
       "      <td>1.378155</td>\n",
       "      <td>-0.338321</td>\n",
       "      <td>0.462388</td>\n",
       "      <td>0.239599</td>\n",
       "      <td>0.098698</td>\n",
       "      <td>0.363787</td>\n",
       "      <td>0.090794</td>\n",
       "      <td>-0.551600</td>\n",
       "      <td>-0.617801</td>\n",
       "      <td>-0.991390</td>\n",
       "      <td>-0.311169</td>\n",
       "      <td>1.468177</td>\n",
       "      <td>-0.470401</td>\n",
       "      <td>0.207971</td>\n",
       "      <td>0.025791</td>\n",
       "      <td>0.403993</td>\n",
       "      <td>0.251412</td>\n",
       "      <td>-0.018307</td>\n",
       "      <td>0.277838</td>\n",
       "      <td>-0.110474</td>\n",
       "      <td>0.066928</td>\n",
       "      <td>0.128539</td>\n",
       "      <td>-0.189115</td>\n",
       "      <td>0.133558</td>\n",
       "      <td>-0.021053</td>\n",
       "      <td>149.62</td>\n",
       "      <td>0</td>\n",
       "    </tr>\n",
       "    <tr>\n",
       "      <th>1</th>\n",
       "      <td>0.0</td>\n",
       "      <td>1.191857</td>\n",
       "      <td>0.266151</td>\n",
       "      <td>0.166480</td>\n",
       "      <td>0.448154</td>\n",
       "      <td>0.060018</td>\n",
       "      <td>-0.082361</td>\n",
       "      <td>-0.078803</td>\n",
       "      <td>0.085102</td>\n",
       "      <td>-0.255425</td>\n",
       "      <td>-0.166974</td>\n",
       "      <td>1.612727</td>\n",
       "      <td>1.065235</td>\n",
       "      <td>0.489095</td>\n",
       "      <td>-0.143772</td>\n",
       "      <td>0.635558</td>\n",
       "      <td>0.463917</td>\n",
       "      <td>-0.114805</td>\n",
       "      <td>-0.183361</td>\n",
       "      <td>-0.145783</td>\n",
       "      <td>-0.069083</td>\n",
       "      <td>-0.225775</td>\n",
       "      <td>-0.638672</td>\n",
       "      <td>0.101288</td>\n",
       "      <td>-0.339846</td>\n",
       "      <td>0.167170</td>\n",
       "      <td>0.125895</td>\n",
       "      <td>-0.008983</td>\n",
       "      <td>0.014724</td>\n",
       "      <td>2.69</td>\n",
       "      <td>0</td>\n",
       "    </tr>\n",
       "    <tr>\n",
       "      <th>2</th>\n",
       "      <td>1.0</td>\n",
       "      <td>-1.358354</td>\n",
       "      <td>-1.340163</td>\n",
       "      <td>1.773209</td>\n",
       "      <td>0.379780</td>\n",
       "      <td>-0.503198</td>\n",
       "      <td>1.800499</td>\n",
       "      <td>0.791461</td>\n",
       "      <td>0.247676</td>\n",
       "      <td>-1.514654</td>\n",
       "      <td>0.207643</td>\n",
       "      <td>0.624501</td>\n",
       "      <td>0.066084</td>\n",
       "      <td>0.717293</td>\n",
       "      <td>-0.165946</td>\n",
       "      <td>2.345865</td>\n",
       "      <td>-2.890083</td>\n",
       "      <td>1.109969</td>\n",
       "      <td>-0.121359</td>\n",
       "      <td>-2.261857</td>\n",
       "      <td>0.524980</td>\n",
       "      <td>0.247998</td>\n",
       "      <td>0.771679</td>\n",
       "      <td>0.909412</td>\n",
       "      <td>-0.689281</td>\n",
       "      <td>-0.327642</td>\n",
       "      <td>-0.139097</td>\n",
       "      <td>-0.055353</td>\n",
       "      <td>-0.059752</td>\n",
       "      <td>378.66</td>\n",
       "      <td>0</td>\n",
       "    </tr>\n",
       "    <tr>\n",
       "      <th>3</th>\n",
       "      <td>1.0</td>\n",
       "      <td>-0.966272</td>\n",
       "      <td>-0.185226</td>\n",
       "      <td>1.792993</td>\n",
       "      <td>-0.863291</td>\n",
       "      <td>-0.010309</td>\n",
       "      <td>1.247203</td>\n",
       "      <td>0.237609</td>\n",
       "      <td>0.377436</td>\n",
       "      <td>-1.387024</td>\n",
       "      <td>-0.054952</td>\n",
       "      <td>-0.226487</td>\n",
       "      <td>0.178228</td>\n",
       "      <td>0.507757</td>\n",
       "      <td>-0.287924</td>\n",
       "      <td>-0.631418</td>\n",
       "      <td>-1.059647</td>\n",
       "      <td>-0.684093</td>\n",
       "      <td>1.965775</td>\n",
       "      <td>-1.232622</td>\n",
       "      <td>-0.208038</td>\n",
       "      <td>-0.108300</td>\n",
       "      <td>0.005274</td>\n",
       "      <td>-0.190321</td>\n",
       "      <td>-1.175575</td>\n",
       "      <td>0.647376</td>\n",
       "      <td>-0.221929</td>\n",
       "      <td>0.062723</td>\n",
       "      <td>0.061458</td>\n",
       "      <td>123.50</td>\n",
       "      <td>0</td>\n",
       "    </tr>\n",
       "    <tr>\n",
       "      <th>4</th>\n",
       "      <td>2.0</td>\n",
       "      <td>-1.158233</td>\n",
       "      <td>0.877737</td>\n",
       "      <td>1.548718</td>\n",
       "      <td>0.403034</td>\n",
       "      <td>-0.407193</td>\n",
       "      <td>0.095921</td>\n",
       "      <td>0.592941</td>\n",
       "      <td>-0.270533</td>\n",
       "      <td>0.817739</td>\n",
       "      <td>0.753074</td>\n",
       "      <td>-0.822843</td>\n",
       "      <td>0.538196</td>\n",
       "      <td>1.345852</td>\n",
       "      <td>-1.119670</td>\n",
       "      <td>0.175121</td>\n",
       "      <td>-0.451449</td>\n",
       "      <td>-0.237033</td>\n",
       "      <td>-0.038195</td>\n",
       "      <td>0.803487</td>\n",
       "      <td>0.408542</td>\n",
       "      <td>-0.009431</td>\n",
       "      <td>0.798278</td>\n",
       "      <td>-0.137458</td>\n",
       "      <td>0.141267</td>\n",
       "      <td>-0.206010</td>\n",
       "      <td>0.502292</td>\n",
       "      <td>0.219422</td>\n",
       "      <td>0.215153</td>\n",
       "      <td>69.99</td>\n",
       "      <td>0</td>\n",
       "    </tr>\n",
       "  </tbody>\n",
       "</table>\n",
       "</div>"
      ],
      "text/plain": [
       "   Time        V1        V2        V3  ...         V27       V28  Amount  Class\n",
       "0   0.0 -1.359807 -0.072781  2.536347  ...    0.133558 -0.021053  149.62      0\n",
       "1   0.0  1.191857  0.266151  0.166480  ...   -0.008983  0.014724    2.69      0\n",
       "2   1.0 -1.358354 -1.340163  1.773209  ...   -0.055353 -0.059752  378.66      0\n",
       "3   1.0 -0.966272 -0.185226  1.792993  ...    0.062723  0.061458  123.50      0\n",
       "4   2.0 -1.158233  0.877737  1.548718  ...    0.219422  0.215153   69.99      0\n",
       "\n",
       "[5 rows x 31 columns]"
      ]
     },
     "execution_count": 3,
     "metadata": {},
     "output_type": "execute_result"
    }
   ],
   "source": [
    "df = pd.read_csv(\"../input/creditcard.csv\")\n",
    "df.head()"
   ]
  },
  {
   "cell_type": "code",
   "execution_count": 4,
   "metadata": {
    "execution": {
     "iopub.execute_input": "2021-09-05T20:20:25.348509Z",
     "iopub.status.busy": "2021-09-05T20:20:25.348177Z",
     "iopub.status.idle": "2021-09-05T20:20:25.477683Z",
     "shell.execute_reply": "2021-09-05T20:20:25.476646Z",
     "shell.execute_reply.started": "2021-09-05T20:20:25.348450Z"
    }
   },
   "outputs": [
    {
     "name": "stdout",
     "output_type": "stream",
     "text": [
      "<class 'pandas.core.frame.DataFrame'>\n",
      "RangeIndex: 284807 entries, 0 to 284806\n",
      "Data columns (total 31 columns):\n",
      "Time      284807 non-null float64\n",
      "V1        284807 non-null float64\n",
      "V2        284807 non-null float64\n",
      "V3        284807 non-null float64\n",
      "V4        284807 non-null float64\n",
      "V5        284807 non-null float64\n",
      "V6        284807 non-null float64\n",
      "V7        284807 non-null float64\n",
      "V8        284807 non-null float64\n",
      "V9        284807 non-null float64\n",
      "V10       284807 non-null float64\n",
      "V11       284807 non-null float64\n",
      "V12       284807 non-null float64\n",
      "V13       284807 non-null float64\n",
      "V14       284807 non-null float64\n",
      "V15       284807 non-null float64\n",
      "V16       284807 non-null float64\n",
      "V17       284807 non-null float64\n",
      "V18       284807 non-null float64\n",
      "V19       284807 non-null float64\n",
      "V20       284807 non-null float64\n",
      "V21       284807 non-null float64\n",
      "V22       284807 non-null float64\n",
      "V23       284807 non-null float64\n",
      "V24       284807 non-null float64\n",
      "V25       284807 non-null float64\n",
      "V26       284807 non-null float64\n",
      "V27       284807 non-null float64\n",
      "V28       284807 non-null float64\n",
      "Amount    284807 non-null float64\n",
      "Class     284807 non-null int64\n",
      "dtypes: float64(30), int64(1)\n",
      "memory usage: 67.4 MB\n"
     ]
    }
   ],
   "source": [
    "df.info()"
   ]
  },
  {
   "cell_type": "markdown",
   "metadata": {},
   "source": [
    "Checking if there is missing values in our data set. If we have we should either clear them or impute them according to their amount and distribution according to:\n",
    "- Missing At Random (MAR) — because the reason why a random value is missing from a feature (predictor) or target can be understood from the exploratory data analysis itself. (Read about this in-depth here)\n",
    "- Missing Completely At Random (MCAR) — there is nothing fishy, the missing is absolutely random! (Read about this in-depth here)\n",
    "- Missing Not At Random (MNAR) — the most unfortunate situation for a machine learning enthusiast or student because the reason for missing here can be explained but not with the help of variables you have in your dataset. This situation demands a thorough investigation into the initial phase of the data analytics — data collection! (Read about this in-depth here)"
   ]
  },
  {
   "cell_type": "code",
   "execution_count": 5,
   "metadata": {
    "execution": {
     "iopub.execute_input": "2021-09-05T20:21:02.519021Z",
     "iopub.status.busy": "2021-09-05T20:21:02.518730Z",
     "iopub.status.idle": "2021-09-05T20:21:02.647487Z",
     "shell.execute_reply": "2021-09-05T20:21:02.646429Z",
     "shell.execute_reply.started": "2021-09-05T20:21:02.518969Z"
    }
   },
   "outputs": [
    {
     "data": {
      "text/plain": [
       "Time      0\n",
       "V1        0\n",
       "V2        0\n",
       "V3        0\n",
       "V4        0\n",
       "V5        0\n",
       "V6        0\n",
       "V7        0\n",
       "V8        0\n",
       "V9        0\n",
       "V10       0\n",
       "V11       0\n",
       "V12       0\n",
       "V13       0\n",
       "V14       0\n",
       "V15       0\n",
       "V16       0\n",
       "V17       0\n",
       "V18       0\n",
       "V19       0\n",
       "V20       0\n",
       "V21       0\n",
       "V22       0\n",
       "V23       0\n",
       "V24       0\n",
       "V25       0\n",
       "V26       0\n",
       "V27       0\n",
       "V28       0\n",
       "Amount    0\n",
       "Class     0\n",
       "dtype: int64"
      ]
     },
     "execution_count": 5,
     "metadata": {},
     "output_type": "execute_result"
    }
   ],
   "source": [
    "df.isnull().sum()"
   ]
  },
  {
   "cell_type": "markdown",
   "metadata": {},
   "source": [
    "Apparently our data set does not contain any missing value."
   ]
  },
  {
   "cell_type": "markdown",
   "metadata": {},
   "source": [
    "Visualizing the dataset by time (in seconds) to see the common patterns between fraudulent and non-fraudulent transactions in terms of time."
   ]
  },
  {
   "cell_type": "code",
   "execution_count": 6,
   "metadata": {
    "_uuid": "c4bc76f29da36d98f4595b8f9b633f8f706522cb",
    "execution": {
     "iopub.execute_input": "2021-09-05T19:49:42.540805Z",
     "iopub.status.busy": "2021-09-05T19:49:42.540502Z",
     "iopub.status.idle": "2021-09-05T19:49:42.961727Z",
     "shell.execute_reply": "2021-09-05T19:49:42.960946Z",
     "shell.execute_reply.started": "2021-09-05T19:49:42.540756Z"
    }
   },
   "outputs": [
    {
     "data": {
      "image/png": "[encoded data removed]",
      "text/plain": [
       "<Figure size 864x288 with 2 Axes>"
      ]
     },
     "metadata": {
      "needs_background": "light"
     },
     "output_type": "display_data"
    }
   ],
   "source": [
    "fig, (ax1, ax2) = plt.subplots(2,1, sharex = True, figsize = [12,4])\n",
    "\n",
    "ax1.hist(df.Time[df.Class == 1], bins = 50)\n",
    "ax1.set_title(\"Fraudulent\")\n",
    "ax2.hist(df.Time[df.Class == 0], bins = 50)\n",
    "ax2.set_title(\"Non-Fraudulent\")\n",
    "\n",
    "plt.xlabel('Time (in Seconds)')\n",
    "plt.ylabel('Number of Transactions')\n",
    "plt.show()"
   ]
  },
  {
   "cell_type": "markdown",
   "metadata": {},
   "source": [
    "Then visualizing the dataset by amount (in US dollars) to see the common patterns between fraudulent and non-fraudulent transactions in terms of transaction amount."
   ]
  },
  {
   "cell_type": "code",
   "execution_count": 7,
   "metadata": {
    "_uuid": "f5cf516c9ddac757b33cad6607b0dee840c4b6a6",
    "execution": {
     "iopub.execute_input": "2021-09-05T19:51:59.219968Z",
     "iopub.status.busy": "2021-09-05T19:51:59.219652Z",
     "iopub.status.idle": "2021-09-05T19:51:59.809419Z",
     "shell.execute_reply": "2021-09-05T19:51:59.808526Z",
     "shell.execute_reply.started": "2021-09-05T19:51:59.219917Z"
    }
   },
   "outputs": [
    {
     "data": {
      "image/png": "[encoded data removed]",
      "text/plain": [
       "<Figure size 864x288 with 2 Axes>"
      ]
     },
     "metadata": {
      "needs_background": "light"
     },
     "output_type": "display_data"
    }
   ],
   "source": [
    "fig, (ax1, ax2) = plt.subplots(2,1, sharex = True, figsize = [12,4])\n",
    "\n",
    "ax1.hist(df.Amount[df.Class == 1], bins = 30)\n",
    "ax1.set_title(\"Fraudulent\")\n",
    "ax2.hist(df.Amount[df.Class == 0], bins = 30)\n",
    "ax2.set_title(\"Non-Fraudulent\")\n",
    "\n",
    "plt.xlabel('Amount in $')\n",
    "plt.ylabel('Number of Transactions')\n",
    "plt.yscale('log')\n",
    "plt.show()"
   ]
  },
  {
   "cell_type": "markdown",
   "metadata": {
    "_uuid": "f0efa56f2feef14a0e99adee7b93661815c7280d"
   },
   "source": [
    "Amount variable is highly skewed. So we will standardize it with mean = 0 and sd = 1 in order to have better results."
   ]
  },
  {
   "cell_type": "code",
   "execution_count": 8,
   "metadata": {
    "_uuid": "8a57ad6046dede357eeefed407ff2a15790b3049",
    "execution": {
     "iopub.execute_input": "2021-09-05T19:53:47.660117Z",
     "iopub.status.busy": "2021-09-05T19:53:47.659801Z",
     "iopub.status.idle": "2021-09-05T19:53:47.862905Z",
     "shell.execute_reply": "2021-09-05T19:53:47.861650Z",
     "shell.execute_reply.started": "2021-09-05T19:53:47.660063Z"
    }
   },
   "outputs": [
    {
     "data": {
      "text/html": [
       "<div>\n",
       "<style scoped>\n",
       "    .dataframe tbody tr th:only-of-type {\n",
       "        vertical-align: middle;\n",
       "    }\n",
       "\n",
       "    .dataframe tbody tr th {\n",
       "        vertical-align: top;\n",
       "    }\n",
       "\n",
       "    .dataframe thead th {\n",
       "        text-align: right;\n",
       "    }\n",
       "</style>\n",
       "<table border=\"1\" class=\"dataframe\">\n",
       "  <thead>\n",
       "    <tr style=\"text-align: right;\">\n",
       "      <th></th>\n",
       "      <th>V1</th>\n",
       "      <th>V2</th>\n",
       "      <th>V3</th>\n",
       "      <th>V4</th>\n",
       "      <th>V5</th>\n",
       "      <th>V6</th>\n",
       "      <th>V7</th>\n",
       "      <th>V8</th>\n",
       "      <th>V9</th>\n",
       "      <th>V10</th>\n",
       "      <th>V11</th>\n",
       "      <th>V12</th>\n",
       "      <th>V13</th>\n",
       "      <th>V14</th>\n",
       "      <th>V15</th>\n",
       "      <th>V16</th>\n",
       "      <th>V17</th>\n",
       "      <th>V18</th>\n",
       "      <th>V19</th>\n",
       "      <th>V20</th>\n",
       "      <th>V21</th>\n",
       "      <th>V22</th>\n",
       "      <th>V23</th>\n",
       "      <th>V24</th>\n",
       "      <th>V25</th>\n",
       "      <th>V26</th>\n",
       "      <th>V27</th>\n",
       "      <th>V28</th>\n",
       "      <th>Class</th>\n",
       "      <th>Normalized_Amount</th>\n",
       "    </tr>\n",
       "  </thead>\n",
       "  <tbody>\n",
       "    <tr>\n",
       "      <th>0</th>\n",
       "      <td>-1.359807</td>\n",
       "      <td>-0.072781</td>\n",
       "      <td>2.536347</td>\n",
       "      <td>1.378155</td>\n",
       "      <td>-0.338321</td>\n",
       "      <td>0.462388</td>\n",
       "      <td>0.239599</td>\n",
       "      <td>0.098698</td>\n",
       "      <td>0.363787</td>\n",
       "      <td>0.090794</td>\n",
       "      <td>-0.551600</td>\n",
       "      <td>-0.617801</td>\n",
       "      <td>-0.991390</td>\n",
       "      <td>-0.311169</td>\n",
       "      <td>1.468177</td>\n",
       "      <td>-0.470401</td>\n",
       "      <td>0.207971</td>\n",
       "      <td>0.025791</td>\n",
       "      <td>0.403993</td>\n",
       "      <td>0.251412</td>\n",
       "      <td>-0.018307</td>\n",
       "      <td>0.277838</td>\n",
       "      <td>-0.110474</td>\n",
       "      <td>0.066928</td>\n",
       "      <td>0.128539</td>\n",
       "      <td>-0.189115</td>\n",
       "      <td>0.133558</td>\n",
       "      <td>-0.021053</td>\n",
       "      <td>0</td>\n",
       "      <td>0.244964</td>\n",
       "    </tr>\n",
       "    <tr>\n",
       "      <th>1</th>\n",
       "      <td>1.191857</td>\n",
       "      <td>0.266151</td>\n",
       "      <td>0.166480</td>\n",
       "      <td>0.448154</td>\n",
       "      <td>0.060018</td>\n",
       "      <td>-0.082361</td>\n",
       "      <td>-0.078803</td>\n",
       "      <td>0.085102</td>\n",
       "      <td>-0.255425</td>\n",
       "      <td>-0.166974</td>\n",
       "      <td>1.612727</td>\n",
       "      <td>1.065235</td>\n",
       "      <td>0.489095</td>\n",
       "      <td>-0.143772</td>\n",
       "      <td>0.635558</td>\n",
       "      <td>0.463917</td>\n",
       "      <td>-0.114805</td>\n",
       "      <td>-0.183361</td>\n",
       "      <td>-0.145783</td>\n",
       "      <td>-0.069083</td>\n",
       "      <td>-0.225775</td>\n",
       "      <td>-0.638672</td>\n",
       "      <td>0.101288</td>\n",
       "      <td>-0.339846</td>\n",
       "      <td>0.167170</td>\n",
       "      <td>0.125895</td>\n",
       "      <td>-0.008983</td>\n",
       "      <td>0.014724</td>\n",
       "      <td>0</td>\n",
       "      <td>-0.342475</td>\n",
       "    </tr>\n",
       "    <tr>\n",
       "      <th>2</th>\n",
       "      <td>-1.358354</td>\n",
       "      <td>-1.340163</td>\n",
       "      <td>1.773209</td>\n",
       "      <td>0.379780</td>\n",
       "      <td>-0.503198</td>\n",
       "      <td>1.800499</td>\n",
       "      <td>0.791461</td>\n",
       "      <td>0.247676</td>\n",
       "      <td>-1.514654</td>\n",
       "      <td>0.207643</td>\n",
       "      <td>0.624501</td>\n",
       "      <td>0.066084</td>\n",
       "      <td>0.717293</td>\n",
       "      <td>-0.165946</td>\n",
       "      <td>2.345865</td>\n",
       "      <td>-2.890083</td>\n",
       "      <td>1.109969</td>\n",
       "      <td>-0.121359</td>\n",
       "      <td>-2.261857</td>\n",
       "      <td>0.524980</td>\n",
       "      <td>0.247998</td>\n",
       "      <td>0.771679</td>\n",
       "      <td>0.909412</td>\n",
       "      <td>-0.689281</td>\n",
       "      <td>-0.327642</td>\n",
       "      <td>-0.139097</td>\n",
       "      <td>-0.055353</td>\n",
       "      <td>-0.059752</td>\n",
       "      <td>0</td>\n",
       "      <td>1.160686</td>\n",
       "    </tr>\n",
       "    <tr>\n",
       "      <th>3</th>\n",
       "      <td>-0.966272</td>\n",
       "      <td>-0.185226</td>\n",
       "      <td>1.792993</td>\n",
       "      <td>-0.863291</td>\n",
       "      <td>-0.010309</td>\n",
       "      <td>1.247203</td>\n",
       "      <td>0.237609</td>\n",
       "      <td>0.377436</td>\n",
       "      <td>-1.387024</td>\n",
       "      <td>-0.054952</td>\n",
       "      <td>-0.226487</td>\n",
       "      <td>0.178228</td>\n",
       "      <td>0.507757</td>\n",
       "      <td>-0.287924</td>\n",
       "      <td>-0.631418</td>\n",
       "      <td>-1.059647</td>\n",
       "      <td>-0.684093</td>\n",
       "      <td>1.965775</td>\n",
       "      <td>-1.232622</td>\n",
       "      <td>-0.208038</td>\n",
       "      <td>-0.108300</td>\n",
       "      <td>0.005274</td>\n",
       "      <td>-0.190321</td>\n",
       "      <td>-1.175575</td>\n",
       "      <td>0.647376</td>\n",
       "      <td>-0.221929</td>\n",
       "      <td>0.062723</td>\n",
       "      <td>0.061458</td>\n",
       "      <td>0</td>\n",
       "      <td>0.140534</td>\n",
       "    </tr>\n",
       "    <tr>\n",
       "      <th>4</th>\n",
       "      <td>-1.158233</td>\n",
       "      <td>0.877737</td>\n",
       "      <td>1.548718</td>\n",
       "      <td>0.403034</td>\n",
       "      <td>-0.407193</td>\n",
       "      <td>0.095921</td>\n",
       "      <td>0.592941</td>\n",
       "      <td>-0.270533</td>\n",
       "      <td>0.817739</td>\n",
       "      <td>0.753074</td>\n",
       "      <td>-0.822843</td>\n",
       "      <td>0.538196</td>\n",
       "      <td>1.345852</td>\n",
       "      <td>-1.119670</td>\n",
       "      <td>0.175121</td>\n",
       "      <td>-0.451449</td>\n",
       "      <td>-0.237033</td>\n",
       "      <td>-0.038195</td>\n",
       "      <td>0.803487</td>\n",
       "      <td>0.408542</td>\n",
       "      <td>-0.009431</td>\n",
       "      <td>0.798278</td>\n",
       "      <td>-0.137458</td>\n",
       "      <td>0.141267</td>\n",
       "      <td>-0.206010</td>\n",
       "      <td>0.502292</td>\n",
       "      <td>0.219422</td>\n",
       "      <td>0.215153</td>\n",
       "      <td>0</td>\n",
       "      <td>-0.073403</td>\n",
       "    </tr>\n",
       "  </tbody>\n",
       "</table>\n",
       "</div>"
      ],
      "text/plain": [
       "         V1        V2        ...          Class  Normalized_Amount\n",
       "0 -1.359807 -0.072781        ...              0           0.244964\n",
       "1  1.191857  0.266151        ...              0          -0.342475\n",
       "2 -1.358354 -1.340163        ...              0           1.160686\n",
       "3 -0.966272 -0.185226        ...              0           0.140534\n",
       "4 -1.158233  0.877737        ...              0          -0.073403\n",
       "\n",
       "[5 rows x 30 columns]"
      ]
     },
     "execution_count": 8,
     "metadata": {},
     "output_type": "execute_result"
    }
   ],
   "source": [
    "df[\"Normalized_Amount\"] = StandardScaler().fit_transform(df['Amount'].values.reshape(-1, 1))\n",
    "#Drop time & amount variable\n",
    "df = df.drop(['Time', 'Amount'], axis = 1)\n",
    "df.head()"
   ]
  },
  {
   "cell_type": "markdown",
   "metadata": {},
   "source": [
    "# Dealing with unbalanced dataset\n",
    "\n",
    "Checking if our dataset is balanced or unbalanced."
   ]
  },
  {
   "cell_type": "code",
   "execution_count": 9,
   "metadata": {
    "_uuid": "0208684519effbda5d75e62ee2edcf42bcc9374b",
    "execution": {
     "iopub.execute_input": "2021-09-05T19:55:07.385302Z",
     "iopub.status.busy": "2021-09-05T19:55:07.385004Z",
     "iopub.status.idle": "2021-09-05T19:55:07.442452Z",
     "shell.execute_reply": "2021-09-05T19:55:07.441483Z",
     "shell.execute_reply.started": "2021-09-05T19:55:07.385249Z"
    }
   },
   "outputs": [
    {
     "data": {
      "text/plain": [
       "Fraudulent           492\n",
       "Non-fraudulent    284315\n",
       "Name: target, dtype: int64"
      ]
     },
     "execution_count": 9,
     "metadata": {},
     "output_type": "execute_result"
    }
   ],
   "source": [
    "Class = [len(df.loc[df.Class == 1]), len(df.loc[df.Class == 0])]\n",
    "pd.Series(Class, index = ['Fraudulent', 'Non-fraudulent'], name = 'target')"
   ]
  },
  {
   "cell_type": "markdown",
   "metadata": {},
   "source": [
    "Visualizing the fraud and legit transactions by their amounts"
   ]
  },
  {
   "cell_type": "code",
   "execution_count": 10,
   "metadata": {
    "execution": {
     "iopub.execute_input": "2021-09-05T20:27:23.058333Z",
     "iopub.status.busy": "2021-09-05T20:27:23.058040Z",
     "iopub.status.idle": "2021-09-05T20:27:23.228611Z",
     "shell.execute_reply": "2021-09-05T20:27:23.227759Z",
     "shell.execute_reply.started": "2021-09-05T20:27:23.058283Z"
    }
   },
   "outputs": [
    {
     "data": {
      "text/plain": [
       "Text(0,0.5,'Frequency')"
      ]
     },
     "execution_count": 10,
     "metadata": {},
     "output_type": "execute_result"
    },
    {
     "data": {
      "image/png": "[encoded data removed]",
      "text/plain": [
       "<Figure size 432x288 with 1 Axes>"
      ]
     },
     "metadata": {
      "needs_background": "light"
     },
     "output_type": "display_data"
    }
   ],
   "source": [
    "count_classes = pd.value_counts(df['Class'], sort = True).sort_index()\n",
    "count_classes.plot(kind = 'bar')\n",
    "plt.title(\"Fraud class histogram\")\n",
    "plt.xlabel(\"Class\")\n",
    "plt.ylabel(\"Frequency\")"
   ]
  },
  {
   "cell_type": "code",
   "execution_count": 11,
   "metadata": {
    "_uuid": "3db19610f40e93c8b8294f3f3fb9c7e786e0bf17",
    "execution": {
     "iopub.execute_input": "2021-09-05T19:55:08.534926Z",
     "iopub.status.busy": "2021-09-05T19:55:08.534628Z",
     "iopub.status.idle": "2021-09-05T19:55:08.541889Z",
     "shell.execute_reply": "2021-09-05T19:55:08.541067Z",
     "shell.execute_reply.started": "2021-09-05T19:55:08.534876Z"
    }
   },
   "outputs": [
    {
     "name": "stdout",
     "output_type": "stream",
     "text": [
      "% of Fraudulent Class = 0.173%\n"
     ]
    }
   ],
   "source": [
    "#Percentage of minority(fraudulent) class\n",
    "print('% of Fraudulent Class = {:.3f}%'.format(len(df[df.Class == 1])*100 / len(df)))"
   ]
  },
  {
   "cell_type": "markdown",
   "metadata": {},
   "source": [
    "Our data is highly unbalanced with roughly 998:2 proportion.\n",
    "\n",
    "So we need to make it balanced or close to balanced data because we should give equal priority to each class. Having a balanced data set for a model would generate higher accuracy models, higher balanced accuracy and balanced detection rate. Hence, its important to have a balanced data set for a classification model.\n",
    "\n",
    "There are several ways to approach to changing it fom unbalanced to balanced:\n",
    "\n",
    "- Collect more data. Unfortunately, we cannot ask the data provider to give us more data.\n",
    "- Changing the performance metric:\n",
    "    - Use the confusion matrix to calculate Precision, Recall\n",
    "    - F1score (weighted average of precision recall)\n",
    "    - Use Kappa - which is a classification accuracy normalized by the imbalance of the classes in the data\n",
    "    - ROC curves - calculates sensitivity/specificity ratio.\n",
    "- Resampling the dataset.\n",
    "    - Essentially this is a method that will process the data to have an approximate 50-50 ratio. It can be achieved by the following approaches:\n",
    "    - Over-sampling, which is adding copies of the under-represented class (better when you have little data)\n",
    "    - Under-sampling, which deletes instances from the over-represented class (better when he have lot's of data)\n",
    "\n",
    "Selected approach for this dataset\n",
    "- First, feature engineering will be performed. The dataset has been downgraded in order to contain 30 features (28 anonamised + time + amount).\n",
    "- Then it will be compared to see the differences when using resampling and when not using it. This approach will be tested using a simple logistic regression classifier.\n",
    "- Models will be evaluated by using some of the performance metrics mentioned above.\n",
    "- The best resampling/not resampling method wil be repeated, by tuning the parameters in the logistic regression classifier.\n",
    "- Finally classifications model will be performed by using other classification algorithms."
   ]
  },
  {
   "cell_type": "markdown",
   "metadata": {
    "_uuid": "93d0cb706b348a37b7ebc6a9deb227a55d0c26de"
   },
   "source": [
    "PS. The formulas:\n",
    "\n",
    "Accuracy = TP+TN/Total data\n",
    "\n",
    "Precison = TP/(TP+FP)\n",
    "\n",
    "Recall = TP/(TP+FN)\n",
    "\n",
    "Recall will be a better option because number of normal transacations are very high as compared to the number of fraud cases and sometime a fraud case will be predicted as normal. So, recall will give us a sense of only fraud cases. Now, it is possible to build a model with 100% recall but the downside will be our precision will be worst and that will result into nothing but useless model. Thus the aim is to attain high recall with maintaing the precision.\n",
    "\n",
    "For avoiding repeatition, the function below  will calculate all the necessary and sufficient results that we want and will compare the three classifiers using visualization of PR curve and ROC curve."
   ]
  },
  {
   "cell_type": "markdown",
   "metadata": {},
   "source": [
    "The models in this function are the following:\n",
    "\n",
    "- Random forest classifier\n",
    "\n",
    "It creates a set of decision trees from a randomly selected subset of the training set. It is basically a set of decision trees (DT) from a randomly selected subset of the training set and then It collects the votes from different decision trees to decide the final prediction.\n",
    "\n",
    "- XGBoost\n",
    "\n",
    "It is an implementation of gradient boosted decision trees designed for speed and performance that is dominative competitive machine learning. In this post you will discover how you can install and create your first XGBoost model in Python\n",
    "\n",
    "- LightGBM \n",
    "\n",
    "It is a gradient boosting framework that makes use of tree based learning algorithms that is considered to be a very powerful algorithm when it comes to computation. While other algorithms trees grow horizontally, LightGBM algorithm grows vertically meaning it grows leaf-wise and other algorithms grow level-wise."
   ]
  },
  {
   "cell_type": "code",
   "execution_count": 12,
   "metadata": {
    "_uuid": "3977760eedada0d88d1da1120836f78e4ace4184",
    "execution": {
     "iopub.execute_input": "2021-09-05T20:00:10.684812Z",
     "iopub.status.busy": "2021-09-05T20:00:10.684517Z",
     "iopub.status.idle": "2021-09-05T20:00:10.702822Z",
     "shell.execute_reply": "2021-09-05T20:00:10.701828Z",
     "shell.execute_reply.started": "2021-09-05T20:00:10.684763Z"
    }
   },
   "outputs": [],
   "source": [
    "def results(balancing_technique):\n",
    "    print(balancing_technique)\n",
    "    fig, (ax1, ax2) = plt.subplots(1,2,figsize = (12,6))\n",
    "    model_name = [\"RF\", \"XGB\", \"LGB\"]\n",
    "    RFC = RandomForestClassifier(random_state = 0)\n",
    "    XGBC = XGBClassifier(random_state = 0)\n",
    "    LGBC = LGBMClassifier(random_state = 0)\n",
    "\n",
    "    for clf,i in zip([RFC, XGBC, LGBC], model_name):\n",
    "        model = clf.fit(X_train, y_train)\n",
    "        y_pred = model.predict(X_test)\n",
    "        y_pred_prob = model.predict_proba(X_test)[:,1]\n",
    "        print(\"#\"*25,i,\"#\"*25)\n",
    "        print(\"Training Accuracy = {:.3f}\".format(model.score(X_train, y_train)))\n",
    "        print(\"Test Accuracy = {:.3f}\".format(model.score(X_test, y_test)))\n",
    "        print(\"ROC_AUC_score : %.6f\" % (roc_auc_score(y_test, y_pred)))\n",
    "        #Confusion Matrix\n",
    "        print(confusion_matrix(y_test, y_pred))\n",
    "        print(\"-\"*15,\"CLASSIFICATION REPORT\",\"-\"*15)\n",
    "        print(classification_report(y_test, y_pred))\n",
    "        \n",
    "        #precision-recall curve\n",
    "        precision, recall, thresholds_pr = precision_recall_curve(y_test, y_pred_prob)\n",
    "        avg_pre = average_precision_score(y_test, y_pred_prob)\n",
    "        ax1.plot(precision, recall, label = i+ \" average precision = {:0.2f}\".format(avg_pre), lw = 3, alpha = 0.7)\n",
    "        ax1.set_xlabel('Precision', fontsize = 14)\n",
    "        ax1.set_ylabel('Recall', fontsize = 14)\n",
    "        ax1.set_title('Precision-Recall Curve', fontsize = 18)\n",
    "        ax1.legend(loc = 'best')\n",
    "        #find default threshold\n",
    "        close_default = np.argmin(np.abs(thresholds_pr - 0.5))\n",
    "        ax1.plot(precision[close_default], recall[close_default], 'o', markersize = 8)\n",
    "\n",
    "        #roc-curve\n",
    "        fpr, tpr, thresholds_roc = roc_curve(y_test, y_pred_prob)\n",
    "        roc_auc = auc(fpr,tpr)\n",
    "        ax2.plot(fpr,tpr, label = i+ \" area = {:0.2f}\".format(roc_auc), lw = 3, alpha = 0.7)\n",
    "        ax2.plot([0,1], [0,1], 'r', linestyle = \"--\", lw = 2)\n",
    "        ax2.set_xlabel(\"False Positive Rate\", fontsize = 14)\n",
    "        ax2.set_ylabel(\"True Positive Rate\", fontsize = 14)\n",
    "        ax2.set_title(\"ROC Curve\", fontsize = 18)\n",
    "        ax2.legend(loc = 'best')\n",
    "        #find default threshold\n",
    "        close_default = np.argmin(np.abs(thresholds_roc - 0.5))\n",
    "        ax2.plot(fpr[close_default], tpr[close_default], 'o', markersize = 8)\n",
    "        plt.tight_layout()"
   ]
  },
  {
   "cell_type": "markdown",
   "metadata": {},
   "source": [
    "Splitting the dataset into X and y, other words, independent and dependent variables by removing target variable and by selecting that variable. Then, splitting dataset into train and test sets to use them in models."
   ]
  },
  {
   "cell_type": "code",
   "execution_count": 13,
   "metadata": {
    "_uuid": "bfb1752aaf8ab90a059acc600d70e066722ef9bc",
    "execution": {
     "iopub.execute_input": "2021-09-05T20:00:20.572942Z",
     "iopub.status.busy": "2021-09-05T20:00:20.572657Z",
     "iopub.status.idle": "2021-09-05T20:00:20.708892Z",
     "shell.execute_reply": "2021-09-05T20:00:20.708053Z",
     "shell.execute_reply.started": "2021-09-05T20:00:20.572892Z"
    }
   },
   "outputs": [],
   "source": [
    "X = df.drop(columns = 'Class')\n",
    "y = df['Class']\n",
    "#Split data into train and test\n",
    "X_train, X_test, y_train, y_test = train_test_split(X, y, test_size = 0.3, random_state = 0)"
   ]
  },
  {
   "cell_type": "code",
   "execution_count": 14,
   "metadata": {
    "_uuid": "3701947ccbb1089b6eacf611f824a44b0c4e07cc",
    "execution": {
     "iopub.execute_input": "2021-09-05T20:00:22.410285Z",
     "iopub.status.busy": "2021-09-05T20:00:22.409995Z",
     "iopub.status.idle": "2021-09-05T20:01:21.422324Z",
     "shell.execute_reply": "2021-09-05T20:01:21.421520Z",
     "shell.execute_reply.started": "2021-09-05T20:00:22.410234Z"
    }
   },
   "outputs": [
    {
     "name": "stdout",
     "output_type": "stream",
     "text": [
      "Without Balancing\n",
      "######################### RF #########################\n",
      "Training Accuracy = 1.000\n",
      "Test Accuracy = 0.999\n",
      "ROC_AUC_score : 0.867306\n",
      "[[85289     7]\n",
      " [   39   108]]\n",
      "--------------- CLASSIFICATION REPORT ---------------\n",
      "             precision    recall  f1-score   support\n",
      "\n",
      "          0       1.00      1.00      1.00     85296\n",
      "          1       0.94      0.73      0.82       147\n",
      "\n",
      "avg / total       1.00      1.00      1.00     85443\n",
      "\n",
      "######################### XGB #########################\n",
      "Training Accuracy = 1.000\n",
      "Test Accuracy = 0.999\n",
      "ROC_AUC_score : 0.880900\n",
      "[[85287     9]\n",
      " [   35   112]]\n",
      "--------------- CLASSIFICATION REPORT ---------------\n",
      "             precision    recall  f1-score   support\n",
      "\n",
      "          0       1.00      1.00      1.00     85296\n",
      "          1       0.93      0.76      0.84       147\n",
      "\n",
      "avg / total       1.00      1.00      1.00     85443\n",
      "\n",
      "######################### LGB #########################\n",
      "Training Accuracy = 0.999\n",
      "Test Accuracy = 0.997\n",
      "ROC_AUC_score : 0.811794\n",
      "[[85103   193]\n",
      " [   55    92]]\n",
      "--------------- CLASSIFICATION REPORT ---------------\n",
      "             precision    recall  f1-score   support\n",
      "\n",
      "          0       1.00      1.00      1.00     85296\n",
      "          1       0.32      0.63      0.43       147\n",
      "\n",
      "avg / total       1.00      1.00      1.00     85443\n",
      "\n"
     ]
    },
    {
     "data": {
      "image/png": "[encoded data removed]",
      "text/plain": [
       "<Figure size 864x432 with 2 Axes>"
      ]
     },
     "metadata": {
      "needs_background": "light"
     },
     "output_type": "display_data"
    }
   ],
   "source": [
    "results(\"Without Balancing\")"
   ]
  },
  {
   "cell_type": "markdown",
   "metadata": {
    "_uuid": "e792789ea9a767f72fab7ab9151b2f4ae5140a07"
   },
   "source": [
    "### Main notions about the graphs\n",
    "- ROC and AUC\n",
    "The function takes both the true outcomes (0,1) from the test set and the predicted probabilities for the 1 class. The function returns the false positive rates for each threshold, true positive rates for each threshold and thresholds.\n",
    "- Precision-Recall Curves\n",
    "Precision is a ratio of the number of true positives divided by the sum of the true positives and false positives. It describes how good a model is at predicting the positive class. Precision is referred to as the positive predictive value. The precision and recall can be calculated for thresholds using the precision_recall_curve() function that takes the true output values and the probabilities for the positive class as input and returns the precision, recall and threshold values.\n",
    "\n",
    "## Insights from the graphs above\n",
    "1. Average precision calculated here is the area under the precision-recall curve which is also called as average precision.\n",
    "2. The dot in the graph are the default threshold values which is always equal to 0.5 for trees.\n",
    "\n",
    "#### Results:\n",
    "1. As expected, xgboost performed well for imbalanced dataset as boosting methods provide higher weights to minority classes. \n",
    "2. Besides, for highly imbalanced data, even Random forest performed well (which was beyond my expectations).\n",
    "3. Now, comparing results of RF and XGB, both performed almost same. But there is quite difference between ROC AUC between both. One of the reason for this may be due to the less number of thresholds present in RF.\n",
    "4. Surprisingly, LGB performed very bad. This may be due to the default parameters present as LGB is quite sensitive to parameter setting."
   ]
  },
  {
   "cell_type": "markdown",
   "metadata": {
    "_uuid": "14a890c60526f2e3e629ed1f251f7d28effce5bc"
   },
   "source": [
    "### NOTE:\n",
    "Area using model function (roc_auc_score) and area from compare_models function (roc_curve) are different. This is because y_pred with roc_aur_score and y_pred_prob with roc_curve used together accordingly. Using y_pred_prob is preffered because it increases the number of thresholds (so that more points are available to plot the graph accurately) whereas y_pred will only give 3 threshold(0, 1, and any value in between 0 and 1)."
   ]
  },
  {
   "cell_type": "markdown",
   "metadata": {
    "_uuid": "27b24f056f46d30991f2d4474531b976fc0a308b"
   },
   "source": [
    "# Data Balancing Techniques"
   ]
  },
  {
   "cell_type": "markdown",
   "metadata": {
    "_uuid": "fe1a2531b3fc702056cb5c571e953fb6c2d57a67"
   },
   "source": [
    "### 1. Down-Sampling"
   ]
  },
  {
   "cell_type": "markdown",
   "metadata": {},
   "source": [
    "As mentioned above, one of the options to deal with unbalanced dataset is downsampling. Which means resizing one class to other's size by dropping some observation to reach the same size."
   ]
  },
  {
   "cell_type": "code",
   "execution_count": 15,
   "metadata": {
    "_uuid": "f39f0f65c184bb507c931d6d51128949189946bc",
    "execution": {
     "iopub.execute_input": "2021-09-05T20:01:58.723588Z",
     "iopub.status.busy": "2021-09-05T20:01:58.723236Z",
     "iopub.status.idle": "2021-09-05T20:01:58.733046Z",
     "shell.execute_reply": "2021-09-05T20:01:58.732207Z",
     "shell.execute_reply.started": "2021-09-05T20:01:58.723533Z"
    }
   },
   "outputs": [
    {
     "name": "stdout",
     "output_type": "stream",
     "text": [
      "Minority Class = 492\n"
     ]
    }
   ],
   "source": [
    "print(\"Minority Class =\", len(df[df.Class == 1]))"
   ]
  },
  {
   "cell_type": "code",
   "execution_count": 16,
   "metadata": {
    "_uuid": "d9a6e8fa83b39e88b7000e3e599356dfaf1172c3",
    "execution": {
     "iopub.execute_input": "2021-09-05T20:03:54.566676Z",
     "iopub.status.busy": "2021-09-05T20:03:54.566306Z",
     "iopub.status.idle": "2021-09-05T20:03:54.651843Z",
     "shell.execute_reply": "2021-09-05T20:03:54.651038Z",
     "shell.execute_reply.started": "2021-09-05T20:03:54.566626Z"
    }
   },
   "outputs": [],
   "source": [
    "train_majority = df[df.Class == 0]\n",
    "train_minority = df[df.Class == 1]\n",
    "train_majority_downsampled = resample(train_majority, replace = False, n_samples = 492, random_state = 0)\n",
    "train_downsampled = pd.concat([train_majority_downsampled, train_minority])"
   ]
  },
  {
   "cell_type": "markdown",
   "metadata": {},
   "source": [
    "Splitting the downsampled dataset into train and test sets for models."
   ]
  },
  {
   "cell_type": "code",
   "execution_count": 17,
   "metadata": {
    "_uuid": "70f1f870cb5e2dd0fa1df10ea4fa9fbc4d753c4c"
   },
   "outputs": [],
   "source": [
    "X = train_downsampled.drop(columns = 'Class')\n",
    "y = train_downsampled['Class']\n",
    "X_train, X_test, y_train, y_test = train_test_split(X, y, test_size = 0.3, random_state = 0)"
   ]
  },
  {
   "cell_type": "markdown",
   "metadata": {
    "_uuid": "8b37bfdf547f67db158d5b20df343823f4352b4c"
   },
   "source": [
    "Although pudated dataset is balanced and boosting models will not give higher weights to the fraulent class, it is important to chech if it performs well on a balanced dataset."
   ]
  },
  {
   "cell_type": "code",
   "execution_count": 18,
   "metadata": {
    "_uuid": "31923cd6c11868524a8a24eee267725227deab4c",
    "execution": {
     "iopub.execute_input": "2021-09-05T20:05:33.885759Z",
     "iopub.status.busy": "2021-09-05T20:05:33.885348Z",
     "iopub.status.idle": "2021-09-05T20:06:32.547127Z",
     "shell.execute_reply": "2021-09-05T20:06:32.546505Z",
     "shell.execute_reply.started": "2021-09-05T20:05:33.885702Z"
    }
   },
   "outputs": [
    {
     "name": "stdout",
     "output_type": "stream",
     "text": [
      "Down Sampling\n",
      "######################### RF #########################\n",
      "Training Accuracy = 0.993\n",
      "Test Accuracy = 0.922\n",
      "ROC_AUC_score : 0.922545\n",
      "[[141   6]\n",
      " [ 17 132]]\n",
      "--------------- CLASSIFICATION REPORT ---------------\n",
      "             precision    recall  f1-score   support\n",
      "\n",
      "          0       0.89      0.96      0.92       147\n",
      "          1       0.96      0.89      0.92       149\n",
      "\n",
      "avg / total       0.92      0.92      0.92       296\n",
      "\n",
      "######################### XGB #########################\n",
      "Training Accuracy = 0.999\n",
      "Test Accuracy = 0.939\n",
      "ROC_AUC_score : 0.939369\n",
      "[[142   5]\n",
      " [ 13 136]]\n",
      "--------------- CLASSIFICATION REPORT ---------------\n",
      "             precision    recall  f1-score   support\n",
      "\n",
      "          0       0.92      0.97      0.94       147\n",
      "          1       0.96      0.91      0.94       149\n",
      "\n",
      "avg / total       0.94      0.94      0.94       296\n",
      "\n",
      "######################### LGB #########################\n",
      "Training Accuracy = 1.000\n",
      "Test Accuracy = 0.926\n",
      "ROC_AUC_score : 0.925946\n",
      "[[142   5]\n",
      " [ 17 132]]\n",
      "--------------- CLASSIFICATION REPORT ---------------\n",
      "             precision    recall  f1-score   support\n",
      "\n",
      "          0       0.89      0.97      0.93       147\n",
      "          1       0.96      0.89      0.92       149\n",
      "\n",
      "avg / total       0.93      0.93      0.93       296\n",
      "\n"
     ]
    },
    {
     "data": {
      "image/png": "[encoded data removed]",
      "text/plain": [
       "<Figure size 864x432 with 2 Axes>"
      ]
     },
     "metadata": {
      "needs_background": "light"
     },
     "output_type": "display_data"
    }
   ],
   "source": [
    "results(\"Down Sampling\")"
   ]
  },
  {
   "cell_type": "markdown",
   "metadata": {
    "_uuid": "bc37a9278f41bc52ac27718fe88214ce31eac1c9"
   },
   "source": [
    "1. All models performed well but the main disadvantage of down sampling is that it will lose a lot of useful information from the dataset as it is removing more than 99% of non-fraudulent cases from the dataset. Thus, this should not be a practical approach here."
   ]
  },
  {
   "cell_type": "markdown",
   "metadata": {
    "_uuid": "534bbc10ff365460aeb5ce63deda559591e75b5a"
   },
   "source": [
    "### 2. Up-Sampling"
   ]
  },
  {
   "cell_type": "markdown",
   "metadata": {},
   "source": [
    "The other option to deal with unbalanced dataset is upsampling which is basically the opposite of the downsampling, in other words, upsampling is a procedure where synthetically generated data points (corresponding to minority class) are injected into the dataset. After this process, the counts of both labels are almost the same. This equalization procedure prevents the model from inclining towards the majority class."
   ]
  },
  {
   "cell_type": "code",
   "execution_count": 19,
   "metadata": {
    "_uuid": "80d00fb594d619e8772b6284863338283cfd8170",
    "execution": {
     "iopub.execute_input": "2021-09-05T20:07:44.940624Z",
     "iopub.status.busy": "2021-09-05T20:07:44.940292Z",
     "iopub.status.idle": "2021-09-05T20:07:45.154697Z",
     "shell.execute_reply": "2021-09-05T20:07:45.153671Z",
     "shell.execute_reply.started": "2021-09-05T20:07:44.940567Z"
    }
   },
   "outputs": [
    {
     "data": {
      "text/plain": [
       "((199019, 30), (345, 30))"
      ]
     },
     "execution_count": 19,
     "metadata": {},
     "output_type": "execute_result"
    }
   ],
   "source": [
    "#Note in up sampling, first split the minority class data into train and test set and then up-sample the train data and test it with test data\n",
    "X = df.drop(columns = 'Class')\n",
    "y = df['Class']\n",
    "#First split data into train and test\n",
    "X_train_us, X_test, y_train_us, y_test = train_test_split(X, y, test_size = 0.3, random_state = 0)\n",
    "#Now resample the train data\n",
    "df_us = pd.concat([X_train_us, y_train_us], axis = 1)\n",
    "train_majority = df_us[df_us.Class == 0]\n",
    "train_minority = df_us[df_us.Class == 1]\n",
    "train_majority.shape, train_minority.shape"
   ]
  },
  {
   "cell_type": "code",
   "execution_count": 20,
   "metadata": {
    "_uuid": "eb221069f9a750bc036089ad416908aca35f43a3",
    "execution": {
     "iopub.execute_input": "2021-09-05T20:07:49.374488Z",
     "iopub.status.busy": "2021-09-05T20:07:49.374166Z",
     "iopub.status.idle": "2021-09-05T20:07:49.530754Z",
     "shell.execute_reply": "2021-09-05T20:07:49.529652Z",
     "shell.execute_reply.started": "2021-09-05T20:07:49.374431Z"
    }
   },
   "outputs": [
    {
     "name": "stdout",
     "output_type": "stream",
     "text": [
      "(199019, 30) (199019, 30)\n"
     ]
    }
   ],
   "source": [
    "train_minority_upsampled = resample(train_minority, replace = True, n_samples = 199019, random_state = 0)\n",
    "print(train_majority.shape, train_minority_upsampled.shape)\n",
    "train_upsampled = pd.concat([train_minority_upsampled, train_majority])\n",
    "X_train = train_upsampled.drop(columns = 'Class')\n",
    "y_train = train_upsampled['Class']"
   ]
  },
  {
   "cell_type": "code",
   "execution_count": 21,
   "metadata": {
    "_uuid": "2a4539008d06279f07222cf1a4657697a54f0483",
    "execution": {
     "iopub.execute_input": "2021-09-05T20:07:53.798365Z",
     "iopub.status.busy": "2021-09-05T20:07:53.798062Z",
     "iopub.status.idle": "2021-09-05T20:09:23.338222Z",
     "shell.execute_reply": "2021-09-05T20:09:23.337378Z",
     "shell.execute_reply.started": "2021-09-05T20:07:53.798308Z"
    }
   },
   "outputs": [
    {
     "name": "stdout",
     "output_type": "stream",
     "text": [
      "Up Sampling\n",
      "######################### RF #########################\n",
      "Training Accuracy = 1.000\n",
      "Test Accuracy = 1.000\n",
      "ROC_AUC_score : 0.877528\n",
      "[[85292     4]\n",
      " [   36   111]]\n",
      "--------------- CLASSIFICATION REPORT ---------------\n",
      "             precision    recall  f1-score   support\n",
      "\n",
      "          0       1.00      1.00      1.00     85296\n",
      "          1       0.97      0.76      0.85       147\n",
      "\n",
      "avg / total       1.00      1.00      1.00     85443\n",
      "\n",
      "######################### XGB #########################\n",
      "Training Accuracy = 0.998\n",
      "Test Accuracy = 0.996\n",
      "ROC_AUC_score : 0.933346\n",
      "[[84950   346]\n",
      " [   19   128]]\n",
      "--------------- CLASSIFICATION REPORT ---------------\n",
      "             precision    recall  f1-score   support\n",
      "\n",
      "          0       1.00      1.00      1.00     85296\n",
      "          1       0.27      0.87      0.41       147\n",
      "\n",
      "avg / total       1.00      1.00      1.00     85443\n",
      "\n",
      "######################### LGB #########################\n",
      "Training Accuracy = 1.000\n",
      "Test Accuracy = 0.999\n",
      "ROC_AUC_score : 0.908058\n",
      "[[85278    18]\n",
      " [   27   120]]\n",
      "--------------- CLASSIFICATION REPORT ---------------\n",
      "             precision    recall  f1-score   support\n",
      "\n",
      "          0       1.00      1.00      1.00     85296\n",
      "          1       0.87      0.82      0.84       147\n",
      "\n",
      "avg / total       1.00      1.00      1.00     85443\n",
      "\n"
     ]
    },
    {
     "data": {
      "image/png": "[encoded data removed]",
      "text/plain": [
       "<Figure size 864x432 with 2 Axes>"
      ]
     },
     "metadata": {
      "needs_background": "light"
     },
     "output_type": "display_data"
    }
   ],
   "source": [
    "results(\"Up Sampling\")"
   ]
  },
  {
   "cell_type": "markdown",
   "metadata": {
    "_uuid": "04f3046934e69cae3d9b79d69e15f9db664277b8"
   },
   "source": [
    "1. Surprisingly, threshold of XGB is very earlier. But, PR curves resembles same as other models. This means using up sampling, XGB performs well on recall but precision is decreased. Which means that XGB classified less FN and more FP with more than 50% probability. Thus, this increases the recall of XGB.\n",
    "2. Further looking at PR curves, it is possible to decut that all models performes well. As per requirement, one can set threshold and get the required result.\n",
    "\n",
    "Now, the down side of this method here is up-sampling will restrict learning of models due to repeatation of fraudulent cases so many times and eventually will overfit also. Also it costs us very expensive computationally."
   ]
  },
  {
   "cell_type": "markdown",
   "metadata": {
    "_uuid": "30ea79ddee5d7d14e320a95046694a2753fdc215"
   },
   "source": [
    "##### CONCLUSION:\n",
    "1. ROC curve for all three models were almost same. PR curve however differentiated somewhat performance based on precision.\n",
    "2. Random forest performed best when data was balanced with different techniques as it maintained recall and precision with the default threshold and maintained precision as compared to boosting as the threshold was decreasing.\n",
    "3. For imbalanced data XGB performed slightly well as compared to RF.\n",
    "4. For balanced data, boosting made predictions with high recall and compromising precision and RF made predictions based on both recall and precision.\n",
    "5. From PR curves, it is possible to say that models performed well. User can set threshold to obtain the required result."
   ]
  }
 ],
 "metadata": {
  "kernelspec": {
   "display_name": "Python 3",
   "language": "python",
   "name": "python3"
  },
  "language_info": {
   "codemirror_mode": {
    "name": "ipython",
    "version": 3
   },
   "file_extension": ".py",
   "mimetype": "text/x-python",
   "name": "python",
   "nbconvert_exporter": "python",
   "pygments_lexer": "ipython3",
   "version": "3.6.6"
  }
 },
 "nbformat": 4,
 "nbformat_minor": 4
}
